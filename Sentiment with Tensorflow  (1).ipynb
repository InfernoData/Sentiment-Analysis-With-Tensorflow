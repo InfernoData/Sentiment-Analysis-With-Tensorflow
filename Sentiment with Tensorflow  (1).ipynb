{
 "cells": [
  {
   "cell_type": "code",
   "execution_count": 1,
   "metadata": {},
   "outputs": [],
   "source": [
    "import pandas as pd\n",
    "import numpy as np\n",
    "import re\n",
    "from bs4 import BeautifulSoup\n",
    "from IPython.display import display, HTML\n",
    "from sklearn.model_selection import train_test_split\n",
    "from nltk.stem import PorterStemmer\n",
    "from nltk.corpus import stopwords\n",
    "from nltk.stem import WordNetLemmatizer\n",
    "from collections import Counter\n",
    "import matplotlib.pyplot as plt\n",
    "from sklearn.model_selection import train_test_split\n",
    "lemmatizer = WordNetLemmatizer()\n",
    "\n",
    "from tensorflow.keras.preprocessing.text import Tokenizer\n",
    "from tensorflow.keras.preprocessing.sequence import pad_sequences\n",
    "from sklearn.model_selection import train_test_split\n",
    "# Neural Network lib\n",
    "from tensorflow.keras.layers import Dense, Embedding, Dropout, GlobalAveragePooling1D\n",
    "from tensorflow.keras.layers import SpatialDropout1D\n",
    "from tensorflow.keras.layers import Dropout ,Conv1D,GlobalMaxPooling1D\n",
    "from tensorflow.keras.regularizers import l2\n",
    "from tensorflow.keras.optimizers import Adam\n",
    "import tensorflow.keras as keras\n",
    "import pickle"
   ]
  },
  {
   "cell_type": "code",
   "execution_count": 2,
   "metadata": {},
   "outputs": [],
   "source": [
    "df = pd.read_csv(\"IMDB Dataset.csv\")"
   ]
  },
  {
   "cell_type": "code",
   "execution_count": 3,
   "metadata": {},
   "outputs": [
    {
     "data": {
      "text/html": [
       "\n",
       "    <p style=\"\n",
       "        background-color: #0077b6;\n",
       "        font-family: Arial, sans-serif;\n",
       "        font-size: 20px;\n",
       "        font-weight: bold;\n",
       "        color: white;\n",
       "        text-align: center;\n",
       "        border-radius: 8px;\n",
       "        padding: 12px;\n",
       "        box-shadow: 2px 2px 5px rgba(0, 0, 0, 0.2);\n",
       "        width: fit-content;\n",
       "        margin: 10px auto;\n",
       "    \">\n",
       "        📊 Basic Overview of Data\n",
       "    </p>\n",
       "    "
      ],
      "text/plain": [
       "<IPython.core.display.HTML object>"
      ]
     },
     "metadata": {},
     "output_type": "display_data"
    },
    {
     "data": {
      "text/html": [
       "<style type=\"text/css\">\n",
       "#T_4986a th {\n",
       "  color: white;\n",
       "  background-color: #0077b6;\n",
       "  padding: 10px;\n",
       "}\n",
       "#T_4986a td {\n",
       "  text-align: center;\n",
       "  padding: 8px;\n",
       "}\n",
       "#T_4986a_row0_col0, #T_4986a_row0_col1, #T_4986a_row1_col0, #T_4986a_row1_col1, #T_4986a_row2_col0, #T_4986a_row2_col1, #T_4986a_row3_col0, #T_4986a_row3_col1, #T_4986a_row4_col0, #T_4986a_row4_col1 {\n",
       "  border: 1px solid #ddd;\n",
       "}\n",
       "</style>\n",
       "<table id=\"T_4986a\">\n",
       "  <thead>\n",
       "    <tr>\n",
       "      <th id=\"T_4986a_level0_col0\" class=\"col_heading level0 col0\" >review</th>\n",
       "      <th id=\"T_4986a_level0_col1\" class=\"col_heading level0 col1\" >sentiment</th>\n",
       "    </tr>\n",
       "  </thead>\n",
       "  <tbody>\n",
       "    <tr>\n",
       "      <td id=\"T_4986a_row0_col0\" class=\"data row0 col0\" >One of the other reviewers has mentioned that after watching just 1 Oz episode you'll be hooked. They are right, as this is exactly what happened with me.<br /><br />The first thing that struck me about Oz was its brutality and unflinching scenes of violence, which set in right from the word GO. Trust me, this is not a show for the faint hearted or timid. This show pulls no punches with regards to drugs, sex or violence. Its is hardcore, in the classic use of the word.<br /><br />It is called OZ as that is the nickname given to the Oswald Maximum Security State Penitentary. It focuses mainly on Emerald City, an experimental section of the prison where all the cells have glass fronts and face inwards, so privacy is not high on the agenda. Em City is home to many..Aryans, Muslims, gangstas, Latinos, Christians, Italians, Irish and more....so scuffles, death stares, dodgy dealings and shady agreements are never far away.<br /><br />I would say the main appeal of the show is due to the fact that it goes where other shows wouldn't dare. Forget pretty pictures painted for mainstream audiences, forget charm, forget romance...OZ doesn't mess around. The first episode I ever saw struck me as so nasty it was surreal, I couldn't say I was ready for it, but as I watched more, I developed a taste for Oz, and got accustomed to the high levels of graphic violence. Not just violence, but injustice (crooked guards who'll be sold out for a nickel, inmates who'll kill on order and get away with it, well mannered, middle class inmates being turned into prison bitches due to their lack of street skills or prison experience) Watching Oz, you may become comfortable with what is uncomfortable viewing....thats if you can get in touch with your darker side.</td>\n",
       "      <td id=\"T_4986a_row0_col1\" class=\"data row0 col1\" >positive</td>\n",
       "    </tr>\n",
       "    <tr>\n",
       "      <td id=\"T_4986a_row1_col0\" class=\"data row1 col0\" >A wonderful little production. <br /><br />The filming technique is very unassuming- very old-time-BBC fashion and gives a comforting, and sometimes discomforting, sense of realism to the entire piece. <br /><br />The actors are extremely well chosen- Michael Sheen not only \"has got all the polari\" but he has all the voices down pat too! You can truly see the seamless editing guided by the references to Williams' diary entries, not only is it well worth the watching but it is a terrificly written and performed piece. A masterful production about one of the great master's of comedy and his life. <br /><br />The realism really comes home with the little things: the fantasy of the guard which, rather than use the traditional 'dream' techniques remains solid then disappears. It plays on our knowledge and our senses, particularly with the scenes concerning Orton and Halliwell and the sets (particularly of their flat with Halliwell's murals decorating every surface) are terribly well done.</td>\n",
       "      <td id=\"T_4986a_row1_col1\" class=\"data row1 col1\" >positive</td>\n",
       "    </tr>\n",
       "    <tr>\n",
       "      <td id=\"T_4986a_row2_col0\" class=\"data row2 col0\" >I thought this was a wonderful way to spend time on a too hot summer weekend, sitting in the air conditioned theater and watching a light-hearted comedy. The plot is simplistic, but the dialogue is witty and the characters are likable (even the well bread suspected serial killer). While some may be disappointed when they realize this is not Match Point 2: Risk Addiction, I thought it was proof that Woody Allen is still fully in control of the style many of us have grown to love.<br /><br />This was the most I'd laughed at one of Woody's comedies in years (dare I say a decade?). While I've never been impressed with Scarlet Johanson, in this she managed to tone down her \"sexy\" image and jumped right into a average, but spirited young woman.<br /><br />This may not be the crown jewel of his career, but it was wittier than \"Devil Wears Prada\" and more interesting than \"Superman\" a great comedy to go see with friends.</td>\n",
       "      <td id=\"T_4986a_row2_col1\" class=\"data row2 col1\" >positive</td>\n",
       "    </tr>\n",
       "    <tr>\n",
       "      <td id=\"T_4986a_row3_col0\" class=\"data row3 col0\" >Basically there's a family where a little boy (Jake) thinks there's a zombie in his closet & his parents are fighting all the time.<br /><br />This movie is slower than a soap opera... and suddenly, Jake decides to become Rambo and kill the zombie.<br /><br />OK, first of all when you're going to make a film you must Decide if its a thriller or a drama! As a drama the movie is watchable. Parents are divorcing & arguing like in real life. And then we have Jake with his closet which totally ruins all the film! I expected to see a BOOGEYMAN similar movie, and instead i watched a drama with some meaningless thriller spots.<br /><br />3 out of 10 just for the well playing parents & descent dialogs. As for the shots with Jake: just ignore them.</td>\n",
       "      <td id=\"T_4986a_row3_col1\" class=\"data row3 col1\" >negative</td>\n",
       "    </tr>\n",
       "    <tr>\n",
       "      <td id=\"T_4986a_row4_col0\" class=\"data row4 col0\" >Petter Mattei's \"Love in the Time of Money\" is a visually stunning film to watch. Mr. Mattei offers us a vivid portrait about human relations. This is a movie that seems to be telling us what money, power and success do to people in the different situations we encounter. <br /><br />This being a variation on the Arthur Schnitzler's play about the same theme, the director transfers the action to the present time New York where all these different characters meet and connect. Each one is connected in one way, or another to the next person, but no one seems to know the previous point of contact. Stylishly, the film has a sophisticated luxurious look. We are taken to see how these people live and the world they live in their own habitat.<br /><br />The only thing one gets out of all these souls in the picture is the different stages of loneliness each one inhabits. A big city is not exactly the best place in which human relations find sincere fulfillment, as one discerns is the case with most of the people we encounter.<br /><br />The acting is good under Mr. Mattei's direction. Steve Buscemi, Rosario Dawson, Carol Kane, Michael Imperioli, Adrian Grenier, and the rest of the talented cast, make these characters come alive.<br /><br />We wish Mr. Mattei good luck and await anxiously for his next work.</td>\n",
       "      <td id=\"T_4986a_row4_col1\" class=\"data row4 col1\" >positive</td>\n",
       "    </tr>\n",
       "  </tbody>\n",
       "</table>\n"
      ],
      "text/plain": [
       "<IPython.core.display.HTML object>"
      ]
     },
     "metadata": {},
     "output_type": "display_data"
    },
    {
     "data": {
      "text/html": [
       "\n",
       "    <p style=\"\n",
       "        background-color: #0077b6;\n",
       "        font-family: Arial, sans-serif;\n",
       "        font-size: 20px;\n",
       "        font-weight: bold;\n",
       "        color: white;\n",
       "        text-align: center;\n",
       "        border-radius: 8px;\n",
       "        padding: 12px;\n",
       "        box-shadow: 2px 2px 5px rgba(0, 0, 0, 0.2);\n",
       "        width: fit-content;\n",
       "        margin: 10px auto;\n",
       "    \">\n",
       "        🚫 Missing Values\n",
       "    </p>\n",
       "    "
      ],
      "text/plain": [
       "<IPython.core.display.HTML object>"
      ]
     },
     "metadata": {},
     "output_type": "display_data"
    },
    {
     "data": {
      "text/html": [
       "<p style='text-align:center; font-weight:bold;'>✅ No missing values in the dataset.</p>"
      ],
      "text/plain": [
       "<IPython.core.display.HTML object>"
      ]
     },
     "metadata": {},
     "output_type": "display_data"
    },
    {
     "data": {
      "text/html": [
       "\n",
       "    <p style=\"\n",
       "        background-color: #0077b6;\n",
       "        font-family: Arial, sans-serif;\n",
       "        font-size: 20px;\n",
       "        font-weight: bold;\n",
       "        color: white;\n",
       "        text-align: center;\n",
       "        border-radius: 8px;\n",
       "        padding: 12px;\n",
       "        box-shadow: 2px 2px 5px rgba(0, 0, 0, 0.2);\n",
       "        width: fit-content;\n",
       "        margin: 10px auto;\n",
       "    \">\n",
       "        ♻️ Duplicate Records\n",
       "    </p>\n",
       "    "
      ],
      "text/plain": [
       "<IPython.core.display.HTML object>"
      ]
     },
     "metadata": {},
     "output_type": "display_data"
    },
    {
     "data": {
      "text/html": [
       "<p style='text-align:center; font-weight:bold;'>🔄 418 duplicate rows found.</p>"
      ],
      "text/plain": [
       "<IPython.core.display.HTML object>"
      ]
     },
     "metadata": {},
     "output_type": "display_data"
    },
    {
     "data": {
      "text/html": [
       "\n",
       "    <p style=\"\n",
       "        background-color: #0077b6;\n",
       "        font-family: Arial, sans-serif;\n",
       "        font-size: 20px;\n",
       "        font-weight: bold;\n",
       "        color: white;\n",
       "        text-align: center;\n",
       "        border-radius: 8px;\n",
       "        padding: 12px;\n",
       "        box-shadow: 2px 2px 5px rgba(0, 0, 0, 0.2);\n",
       "        width: fit-content;\n",
       "        margin: 10px auto;\n",
       "    \">\n",
       "        📏 Dataset Shape\n",
       "    </p>\n",
       "    "
      ],
      "text/plain": [
       "<IPython.core.display.HTML object>"
      ]
     },
     "metadata": {},
     "output_type": "display_data"
    },
    {
     "data": {
      "text/html": [
       "<p style='text-align:center; font-weight:bold;'>Rows: 50000, Columns: 2</p>"
      ],
      "text/plain": [
       "<IPython.core.display.HTML object>"
      ]
     },
     "metadata": {},
     "output_type": "display_data"
    },
    {
     "data": {
      "text/html": [
       "\n",
       "    <p style=\"\n",
       "        background-color: #0077b6;\n",
       "        font-family: Arial, sans-serif;\n",
       "        font-size: 20px;\n",
       "        font-weight: bold;\n",
       "        color: white;\n",
       "        text-align: center;\n",
       "        border-radius: 8px;\n",
       "        padding: 12px;\n",
       "        box-shadow: 2px 2px 5px rgba(0, 0, 0, 0.2);\n",
       "        width: fit-content;\n",
       "        margin: 10px auto;\n",
       "    \">\n",
       "        🔢 Value Counts\n",
       "    </p>\n",
       "    "
      ],
      "text/plain": [
       "<IPython.core.display.HTML object>"
      ]
     },
     "metadata": {},
     "output_type": "display_data"
    },
    {
     "data": {
      "text/html": [
       "<p style='text-align:center; font-weight:bold;'>positive: 25000</p><p style='text-align:center; font-weight:bold;'>negative: 25000</p>"
      ],
      "text/plain": [
       "<IPython.core.display.HTML object>"
      ]
     },
     "metadata": {},
     "output_type": "display_data"
    }
   ],
   "source": [
    "def styled_heading(text, background_color='#0077b6', text_color='white'):\n",
    "    return f\"\"\"\n",
    "    <p style=\"\n",
    "        background-color: {background_color};\n",
    "        font-family: Arial, sans-serif;\n",
    "        font-size: 20px;\n",
    "        font-weight: bold;\n",
    "        color: {text_color};\n",
    "        text-align: center;\n",
    "        border-radius: 8px;\n",
    "        padding: 12px;\n",
    "        box-shadow: 2px 2px 5px rgba(0, 0, 0, 0.2);\n",
    "        width: fit-content;\n",
    "        margin: 10px auto;\n",
    "    \">\n",
    "        {text}\n",
    "    </p>\n",
    "    \"\"\"\n",
    "def style_table(df):\n",
    "    return df.style.set_table_styles([\n",
    "        {\"selector\": \"th\", \"props\": [(\"color\", \"white\"), (\"background-color\", \"#0077b6\"), (\"padding\", \"10px\")]},\n",
    "        {\"selector\": \"td\", \"props\": [(\"text-align\", \"center\"), (\"padding\", \"8px\")]} \n",
    "    ]).set_properties(**{\"border\": \"1px solid #ddd\"}).hide(axis=\"index\").to_html()\n",
    "\n",
    "def print_dataset_analysis(df, n_top=5, heading_color='#0077b6', text_color='white'):\n",
    "    display(HTML(styled_heading(\"📊 Basic Overview of Data\", heading_color, text_color)))\n",
    "    display(HTML(style_table(df.head(n_top))))\n",
    "    \n",
    "    display(HTML(styled_heading(\"🚫 Missing Values\", heading_color, text_color)))\n",
    "    null_counts = df.isnull().sum()\n",
    "    if null_counts.sum() == 0:\n",
    "        display(HTML(\"<p style='text-align:center; font-weight:bold;'>✅ No missing values in the dataset.</p>\"))\n",
    "    else:\n",
    "        display(HTML(style_table(null_counts[null_counts > 0].to_frame(name='Missing Count'))))\n",
    "    \n",
    "    display(HTML(styled_heading(\"♻️ Duplicate Records\", heading_color, text_color)))\n",
    "    duplicates = df.duplicated().sum()\n",
    "    display(HTML(f\"<p style='text-align:center; font-weight:bold;'>🔄 {duplicates} duplicate rows found.</p>\"))\n",
    "    \n",
    "    display(HTML(styled_heading(\"📏 Dataset Shape\", heading_color, text_color)))\n",
    "    display(HTML(f\"<p style='text-align:center; font-weight:bold;'>Rows: {df.shape[0]}, Columns: {df.shape[1]}</p>\"))\n",
    "\n",
    "def print_value_counts(df, target_column, heading_color='#0077b6', text_color='white'):\n",
    "    display(HTML(styled_heading(\"🔢 Value Counts\", heading_color, text_color)))\n",
    "    if target_column in df.columns:\n",
    "        value_counts = df[target_column].value_counts()\n",
    "        formatted_counts = \"\".join(f\"<p style='text-align:center; font-weight:bold;'>{index}: {count}</p>\" for index, count in value_counts.items())\n",
    "        display(HTML(formatted_counts))\n",
    "    else:\n",
    "        display(HTML(f\"<p style='text-align:center; font-weight:bold; color:red;'>⚠️ Column '{target_column}' not found in dataset.</p>\"))\n",
    "\n",
    "print_dataset_analysis(df,n_top=5)\n",
    "print_value_counts(df,'sentiment')"
   ]
  },
  {
   "cell_type": "code",
   "execution_count": 4,
   "metadata": {},
   "outputs": [],
   "source": [
    "df=df.drop_duplicates()"
   ]
  },
  {
   "cell_type": "code",
   "execution_count": 5,
   "metadata": {},
   "outputs": [
    {
     "name": "stdout",
     "output_type": "stream",
     "text": [
      "Index(['review', 'sentiment'], dtype='object')\n"
     ]
    }
   ],
   "source": [
    "# stop words to be removed later\n",
    "custom_stopwords = set(stopwords.words('english'))  \n",
    "# Make sure 'review' is a valid column name\n",
    "print(df.columns)"
   ]
  },
  {
   "cell_type": "code",
   "execution_count": 6,
   "metadata": {},
   "outputs": [
    {
     "name": "stdout",
     "output_type": "stream",
     "text": [
      "                                              review  \\\n",
      "0  One of the other reviewers has mentioned that ...   \n",
      "1  A wonderful little production. <br /><br />The...   \n",
      "2  I thought this was a wonderful way to spend ti...   \n",
      "3  Basically there's a family where a little boy ...   \n",
      "4  Petter Mattei's \"Love in the Time of Money\" is...   \n",
      "5  Probably my all-time favorite movie, a story o...   \n",
      "6  I sure would like to see a resurrection of a u...   \n",
      "7  This show was an amazing, fresh & innovative i...   \n",
      "8  Encouraged by the positive comments about this...   \n",
      "9  If you like original gut wrenching laughter yo...   \n",
      "\n",
      "                                    processed_review  \n",
      "0  one reviewer mentioned watching oz episode hoo...  \n",
      "1  wonderful little production filming technique ...  \n",
      "2  thought wonderful way spend time hot summer we...  \n",
      "3  basically family little boy jake think zombie ...  \n",
      "4  petter mattei love time money visually stunnin...  \n",
      "5  probably time favorite movie story selflessnes...  \n",
      "6  sure would like see resurrection dated seahunt...  \n",
      "7  show amazing fresh innovative idea first aired...  \n",
      "8  encouraged positive comment film looking forwa...  \n",
      "9  like original gut wrenching laughter like movi...  \n"
     ]
    }
   ],
   "source": [
    "def preprocess_text(text):\n",
    "    if isinstance(text, str):  # Ensure text is a string\n",
    "        ## REMOVE HTML\n",
    "        if \"<\" in text and \">\" in text:\n",
    "            text = BeautifulSoup(text, \"html.parser\").get_text()\n",
    "        ## CLEANING\n",
    "        # Remove special characters\n",
    "        text = re.sub(r'\\W+', ' ', text)  \n",
    "        # Remove digits\n",
    "        text = re.sub(r'\\d+', '', text)\n",
    "        ## LOWERCASING\n",
    "        text = text.lower()\n",
    "        ## TOKENIZATION\n",
    "        words = text.split()\n",
    "        ## REMOVE STOPWORDS\n",
    "        words = [w for w in words if w not in custom_stopwords] \n",
    "        ## APPLY LEMMATIZATION\n",
    "        words = [lemmatizer.lemmatize(w) for w in words]\n",
    "        ## RETURN CLEANED TEXT\n",
    "        return ' '.join(words)\n",
    "    return \"\"\n",
    "# Apply preprocessing\n",
    "df['processed_review'] = df['review'].apply(preprocess_text)\n",
    "# Show original vs processed text\n",
    "print(df[['review', 'processed_review']].head(10))  "
   ]
  },
  {
   "cell_type": "code",
   "execution_count": 7,
   "metadata": {},
   "outputs": [
    {
     "data": {
      "image/png": "[encoded data removed]",
      "text/plain": [
       "<Figure size 1000x500 with 1 Axes>"
      ]
     },
     "metadata": {},
     "output_type": "display_data"
    }
   ],
   "source": [
    "# BAG OF WORDS ASSUMPTION\n",
    "word_counts = Counter(\" \".join(df[\"processed_review\"]).split())\n",
    "# Get word frequencies\n",
    "occurrences_values = list(word_counts.values())\n",
    "\n",
    "# Plot histogram to help decide the threshold that will be used to remove rare words later\n",
    "# threshold here is the minimum number of occurrences for one word so that it will not be considered as a rare word\n",
    "plt.figure(figsize=(10, 5))\n",
    "plt.hist(occurrences_values, bins=range(1, 21), edgecolor='black')  # Only show words appearing ≤ 20 times \n",
    "plt.yscale('log')  # Log scale helps visualize better\n",
    "plt.xlabel(\"Number of Occurrences\")\n",
    "plt.ylabel(\"Number of Words\")\n",
    "plt.title(\"Word Occurrences Distribution\")\n",
    "plt.show()"
   ]
  },
  {
   "cell_type": "code",
   "execution_count": 8,
   "metadata": {},
   "outputs": [
    {
     "name": "stdout",
     "output_type": "stream",
     "text": [
      "                                    processed_review  \\\n",
      "0  one reviewer mentioned watching oz episode hoo...   \n",
      "1  wonderful little production filming technique ...   \n",
      "2  thought wonderful way spend time hot summer we...   \n",
      "3  basically family little boy jake think zombie ...   \n",
      "4  petter mattei love time money visually stunnin...   \n",
      "5  probably time favorite movie story selflessnes...   \n",
      "6  sure would like see resurrection dated seahunt...   \n",
      "7  show amazing fresh innovative idea first aired...   \n",
      "8  encouraged positive comment film looking forwa...   \n",
      "9  like original gut wrenching laughter like movi...   \n",
      "\n",
      "                                   processed_review2  \n",
      "0  one reviewer mentioned watching oz episode hoo...  \n",
      "1  wonderful little production filming technique ...  \n",
      "2  thought wonderful way spend time hot summer we...  \n",
      "3  basically family little boy jake think zombie ...  \n",
      "4  mattei love time money visually stunning film ...  \n",
      "5  probably time favorite movie story sacrifice d...  \n",
      "6  sure would like see resurrection dated series ...  \n",
      "7  show amazing fresh innovative idea first aired...  \n",
      "8  encouraged positive comment film looking forwa...  \n",
      "9  like original gut wrenching laughter like movi...  \n"
     ]
    }
   ],
   "source": [
    "## REMOVE RARE WORDS\n",
    "# Most words appear very few times (1-5 occurrences)\n",
    "# The count drops significantly as frequency increases  \n",
    "# we will take a threshold of 4 which Keeps moderately rare words that might still carry meaning but Removes very infrequent words that could add noise\n",
    "\n",
    "threshold = 4\n",
    "# Identify rare words\n",
    "rare_words = {w for w, c in word_counts.items() if c <= threshold}  \n",
    "\n",
    "def remove_rare_words(text):\n",
    "    if isinstance(text, str):  # Ensure text is a string\n",
    "        words = text.split()\n",
    "        return ' '.join([w for w in words if w not in rare_words])\n",
    "    return \"\"\n",
    "\n",
    "# Apply to dataset\n",
    "df['processed_review2'] = df['processed_review'].apply(remove_rare_words)\n",
    "\n",
    "# Check results\n",
    "print(df[['processed_review', 'processed_review2']].head(10))"
   ]
  },
  {
   "cell_type": "code",
   "execution_count": 9,
   "metadata": {},
   "outputs": [
    {
     "data": {
      "text/html": [
       "<div>\n",
       "<style scoped>\n",
       "    .dataframe tbody tr th:only-of-type {\n",
       "        vertical-align: middle;\n",
       "    }\n",
       "\n",
       "    .dataframe tbody tr th {\n",
       "        vertical-align: top;\n",
       "    }\n",
       "\n",
       "    .dataframe thead th {\n",
       "        text-align: right;\n",
       "    }\n",
       "</style>\n",
       "<table border=\"1\" class=\"dataframe\">\n",
       "  <thead>\n",
       "    <tr style=\"text-align: right;\">\n",
       "      <th></th>\n",
       "      <th>review</th>\n",
       "      <th>sentiment</th>\n",
       "      <th>processed_review</th>\n",
       "      <th>processed_review2</th>\n",
       "    </tr>\n",
       "  </thead>\n",
       "  <tbody>\n",
       "    <tr>\n",
       "      <th>0</th>\n",
       "      <td>One of the other reviewers has mentioned that ...</td>\n",
       "      <td>1</td>\n",
       "      <td>one reviewer mentioned watching oz episode hoo...</td>\n",
       "      <td>one reviewer mentioned watching oz episode hoo...</td>\n",
       "    </tr>\n",
       "    <tr>\n",
       "      <th>1</th>\n",
       "      <td>A wonderful little production. &lt;br /&gt;&lt;br /&gt;The...</td>\n",
       "      <td>1</td>\n",
       "      <td>wonderful little production filming technique ...</td>\n",
       "      <td>wonderful little production filming technique ...</td>\n",
       "    </tr>\n",
       "    <tr>\n",
       "      <th>2</th>\n",
       "      <td>I thought this was a wonderful way to spend ti...</td>\n",
       "      <td>1</td>\n",
       "      <td>thought wonderful way spend time hot summer we...</td>\n",
       "      <td>thought wonderful way spend time hot summer we...</td>\n",
       "    </tr>\n",
       "    <tr>\n",
       "      <th>3</th>\n",
       "      <td>Basically there's a family where a little boy ...</td>\n",
       "      <td>0</td>\n",
       "      <td>basically family little boy jake think zombie ...</td>\n",
       "      <td>basically family little boy jake think zombie ...</td>\n",
       "    </tr>\n",
       "    <tr>\n",
       "      <th>4</th>\n",
       "      <td>Petter Mattei's \"Love in the Time of Money\" is...</td>\n",
       "      <td>1</td>\n",
       "      <td>petter mattei love time money visually stunnin...</td>\n",
       "      <td>mattei love time money visually stunning film ...</td>\n",
       "    </tr>\n",
       "  </tbody>\n",
       "</table>\n",
       "</div>"
      ],
      "text/plain": [
       "                                              review sentiment  \\\n",
       "0  One of the other reviewers has mentioned that ...         1   \n",
       "1  A wonderful little production. <br /><br />The...         1   \n",
       "2  I thought this was a wonderful way to spend ti...         1   \n",
       "3  Basically there's a family where a little boy ...         0   \n",
       "4  Petter Mattei's \"Love in the Time of Money\" is...         1   \n",
       "\n",
       "                                    processed_review  \\\n",
       "0  one reviewer mentioned watching oz episode hoo...   \n",
       "1  wonderful little production filming technique ...   \n",
       "2  thought wonderful way spend time hot summer we...   \n",
       "3  basically family little boy jake think zombie ...   \n",
       "4  petter mattei love time money visually stunnin...   \n",
       "\n",
       "                                   processed_review2  \n",
       "0  one reviewer mentioned watching oz episode hoo...  \n",
       "1  wonderful little production filming technique ...  \n",
       "2  thought wonderful way spend time hot summer we...  \n",
       "3  basically family little boy jake think zombie ...  \n",
       "4  mattei love time money visually stunning film ...  "
      ]
     },
     "execution_count": 9,
     "metadata": {},
     "output_type": "execute_result"
    }
   ],
   "source": [
    "df.loc[df['sentiment'] == 'positive', 'sentiment'] = 1\n",
    "df.loc[df['sentiment'] == 'negative', 'sentiment'] = 0\n",
    "df.head()"
   ]
  },
  {
   "cell_type": "code",
   "execution_count": 10,
   "metadata": {},
   "outputs": [],
   "source": [
    "X = df['processed_review2']  \n",
    "y = df['sentiment']"
   ]
  },
  {
   "cell_type": "code",
   "execution_count": 11,
   "metadata": {},
   "outputs": [
    {
     "data": {
      "text/plain": [
       "array([0., 1.], dtype=float32)"
      ]
     },
     "execution_count": 11,
     "metadata": {},
     "output_type": "execute_result"
    }
   ],
   "source": [
    "y = np.array(y, dtype=np.int32)\n",
    "label = np.eye(2, dtype=np.float32)[y]\n",
    "label[0]"
   ]
  },
  {
   "cell_type": "code",
   "execution_count": 12,
   "metadata": {},
   "outputs": [
    {
     "name": "stdout",
     "output_type": "stream",
     "text": [
      "The max sentence size is: 1360\n",
      "The shape of padding data: (49582, 1360)\n"
     ]
    }
   ],
   "source": [
    "tokenize = Tokenizer()\n",
    "tokenize.fit_on_texts(X)\n",
    "\n",
    "with open(\"tokenizer.pkl\", \"wb\") as handle:\n",
    "    pickle.dump(tokenize, handle, protocol=pickle.HIGHEST_PROTOCOL)\n",
    "\n",
    "token_sequance = tokenize.texts_to_sequences(X)\n",
    "max_sentince_size = max(len(i) for i in token_sequance)\n",
    "pad_data = pad_sequences(token_sequance, maxlen=max_sentince_size, padding='pre')\n",
    "\n",
    "print('The max sentence size is:', max_sentince_size)\n",
    "print('The shape of padding data:', pad_data.shape)"
   ]
  },
  {
   "cell_type": "code",
   "execution_count": 13,
   "metadata": {},
   "outputs": [
    {
     "name": "stdout",
     "output_type": "stream",
     "text": [
      "Max vocab size :  34656\n"
     ]
    }
   ],
   "source": [
    "voc_size = len(tokenize.word_index) + 1\n",
    "print('Max vocab size : ', voc_size)"
   ]
  },
  {
   "cell_type": "code",
   "execution_count": 14,
   "metadata": {},
   "outputs": [
    {
     "name": "stdout",
     "output_type": "stream",
     "text": [
      "Training set size: 39665\n",
      "Testing set size: 9917\n"
     ]
    }
   ],
   "source": [
    "X_train, X_test, y_train, y_test = train_test_split(pad_data, label, test_size=0.2, random_state=42)\n",
    "\n",
    "print(\"Training set size:\", len(X_train))\n",
    "print(\"Testing set size:\", len(X_test))"
   ]
  },
  {
   "cell_type": "code",
   "execution_count": 15,
   "metadata": {},
   "outputs": [
    {
     "name": "stderr",
     "output_type": "stream",
     "text": [
      "C:\\Users\\abdo\\anaconda3\\Lib\\site-packages\\keras\\src\\layers\\core\\embedding.py:90: UserWarning: Argument `input_length` is deprecated. Just remove it.\n",
      "  warnings.warn(\n"
     ]
    },
    {
     "data": {
      "text/html": [
       "<pre style=\"white-space:pre;overflow-x:auto;line-height:normal;font-family:Menlo,'DejaVu Sans Mono',consolas,'Courier New',monospace\"><span style=\"font-weight: bold\">Model: \"sequential\"</span>\n",
       "</pre>\n"
      ],
      "text/plain": [
       "\u001b[1mModel: \"sequential\"\u001b[0m\n"
      ]
     },
     "metadata": {},
     "output_type": "display_data"
    },
    {
     "data": {
      "text/html": [
       "<pre style=\"white-space:pre;overflow-x:auto;line-height:normal;font-family:Menlo,'DejaVu Sans Mono',consolas,'Courier New',monospace\">┏━━━━━━━━━━━━━━━━━━━━━━━━━━━━━━━━━┳━━━━━━━━━━━━━━━━━━━━━━━━┳━━━━━━━━━━━━━━━┓\n",
       "┃<span style=\"font-weight: bold\"> Layer (type)                    </span>┃<span style=\"font-weight: bold\"> Output Shape           </span>┃<span style=\"font-weight: bold\">       Param # </span>┃\n",
       "┡━━━━━━━━━━━━━━━━━━━━━━━━━━━━━━━━━╇━━━━━━━━━━━━━━━━━━━━━━━━╇━━━━━━━━━━━━━━━┩\n",
       "│ embedding (<span style=\"color: #0087ff; text-decoration-color: #0087ff\">Embedding</span>)           │ (<span style=\"color: #00d7ff; text-decoration-color: #00d7ff\">None</span>, <span style=\"color: #00af00; text-decoration-color: #00af00\">1360</span>, <span style=\"color: #00af00; text-decoration-color: #00af00\">1360</span>)     │    <span style=\"color: #00af00; text-decoration-color: #00af00\">47,132,160</span> │\n",
       "├─────────────────────────────────┼────────────────────────┼───────────────┤\n",
       "│ spatial_dropout1d               │ (<span style=\"color: #00d7ff; text-decoration-color: #00d7ff\">None</span>, <span style=\"color: #00af00; text-decoration-color: #00af00\">1360</span>, <span style=\"color: #00af00; text-decoration-color: #00af00\">1360</span>)     │             <span style=\"color: #00af00; text-decoration-color: #00af00\">0</span> │\n",
       "│ (<span style=\"color: #0087ff; text-decoration-color: #0087ff\">SpatialDropout1D</span>)              │                        │               │\n",
       "├─────────────────────────────────┼────────────────────────┼───────────────┤\n",
       "│ global_average_pooling1d        │ (<span style=\"color: #00d7ff; text-decoration-color: #00d7ff\">None</span>, <span style=\"color: #00af00; text-decoration-color: #00af00\">1360</span>)           │             <span style=\"color: #00af00; text-decoration-color: #00af00\">0</span> │\n",
       "│ (<span style=\"color: #0087ff; text-decoration-color: #0087ff\">GlobalAveragePooling1D</span>)        │                        │               │\n",
       "├─────────────────────────────────┼────────────────────────┼───────────────┤\n",
       "│ dropout (<span style=\"color: #0087ff; text-decoration-color: #0087ff\">Dropout</span>)               │ (<span style=\"color: #00d7ff; text-decoration-color: #00d7ff\">None</span>, <span style=\"color: #00af00; text-decoration-color: #00af00\">1360</span>)           │             <span style=\"color: #00af00; text-decoration-color: #00af00\">0</span> │\n",
       "├─────────────────────────────────┼────────────────────────┼───────────────┤\n",
       "│ dense (<span style=\"color: #0087ff; text-decoration-color: #0087ff\">Dense</span>)                   │ (<span style=\"color: #00d7ff; text-decoration-color: #00d7ff\">None</span>, <span style=\"color: #00af00; text-decoration-color: #00af00\">2</span>)              │         <span style=\"color: #00af00; text-decoration-color: #00af00\">2,722</span> │\n",
       "└─────────────────────────────────┴────────────────────────┴───────────────┘\n",
       "</pre>\n"
      ],
      "text/plain": [
       "┏━━━━━━━━━━━━━━━━━━━━━━━━━━━━━━━━━┳━━━━━━━━━━━━━━━━━━━━━━━━┳━━━━━━━━━━━━━━━┓\n",
       "┃\u001b[1m \u001b[0m\u001b[1mLayer (type)                   \u001b[0m\u001b[1m \u001b[0m┃\u001b[1m \u001b[0m\u001b[1mOutput Shape          \u001b[0m\u001b[1m \u001b[0m┃\u001b[1m \u001b[0m\u001b[1m      Param #\u001b[0m\u001b[1m \u001b[0m┃\n",
       "┡━━━━━━━━━━━━━━━━━━━━━━━━━━━━━━━━━╇━━━━━━━━━━━━━━━━━━━━━━━━╇━━━━━━━━━━━━━━━┩\n",
       "│ embedding (\u001b[38;5;33mEmbedding\u001b[0m)           │ (\u001b[38;5;45mNone\u001b[0m, \u001b[38;5;34m1360\u001b[0m, \u001b[38;5;34m1360\u001b[0m)     │    \u001b[38;5;34m47,132,160\u001b[0m │\n",
       "├─────────────────────────────────┼────────────────────────┼───────────────┤\n",
       "│ spatial_dropout1d               │ (\u001b[38;5;45mNone\u001b[0m, \u001b[38;5;34m1360\u001b[0m, \u001b[38;5;34m1360\u001b[0m)     │             \u001b[38;5;34m0\u001b[0m │\n",
       "│ (\u001b[38;5;33mSpatialDropout1D\u001b[0m)              │                        │               │\n",
       "├─────────────────────────────────┼────────────────────────┼───────────────┤\n",
       "│ global_average_pooling1d        │ (\u001b[38;5;45mNone\u001b[0m, \u001b[38;5;34m1360\u001b[0m)           │             \u001b[38;5;34m0\u001b[0m │\n",
       "│ (\u001b[38;5;33mGlobalAveragePooling1D\u001b[0m)        │                        │               │\n",
       "├─────────────────────────────────┼────────────────────────┼───────────────┤\n",
       "│ dropout (\u001b[38;5;33mDropout\u001b[0m)               │ (\u001b[38;5;45mNone\u001b[0m, \u001b[38;5;34m1360\u001b[0m)           │             \u001b[38;5;34m0\u001b[0m │\n",
       "├─────────────────────────────────┼────────────────────────┼───────────────┤\n",
       "│ dense (\u001b[38;5;33mDense\u001b[0m)                   │ (\u001b[38;5;45mNone\u001b[0m, \u001b[38;5;34m2\u001b[0m)              │         \u001b[38;5;34m2,722\u001b[0m │\n",
       "└─────────────────────────────────┴────────────────────────┴───────────────┘\n"
      ]
     },
     "metadata": {},
     "output_type": "display_data"
    },
    {
     "data": {
      "text/html": [
       "<pre style=\"white-space:pre;overflow-x:auto;line-height:normal;font-family:Menlo,'DejaVu Sans Mono',consolas,'Courier New',monospace\"><span style=\"font-weight: bold\"> Total params: </span><span style=\"color: #00af00; text-decoration-color: #00af00\">47,134,882</span> (179.81 MB)\n",
       "</pre>\n"
      ],
      "text/plain": [
       "\u001b[1m Total params: \u001b[0m\u001b[38;5;34m47,134,882\u001b[0m (179.81 MB)\n"
      ]
     },
     "metadata": {},
     "output_type": "display_data"
    },
    {
     "data": {
      "text/html": [
       "<pre style=\"white-space:pre;overflow-x:auto;line-height:normal;font-family:Menlo,'DejaVu Sans Mono',consolas,'Courier New',monospace\"><span style=\"font-weight: bold\"> Trainable params: </span><span style=\"color: #00af00; text-decoration-color: #00af00\">47,134,882</span> (179.81 MB)\n",
       "</pre>\n"
      ],
      "text/plain": [
       "\u001b[1m Trainable params: \u001b[0m\u001b[38;5;34m47,134,882\u001b[0m (179.81 MB)\n"
      ]
     },
     "metadata": {},
     "output_type": "display_data"
    },
    {
     "data": {
      "text/html": [
       "<pre style=\"white-space:pre;overflow-x:auto;line-height:normal;font-family:Menlo,'DejaVu Sans Mono',consolas,'Courier New',monospace\"><span style=\"font-weight: bold\"> Non-trainable params: </span><span style=\"color: #00af00; text-decoration-color: #00af00\">0</span> (0.00 B)\n",
       "</pre>\n"
      ],
      "text/plain": [
       "\u001b[1m Non-trainable params: \u001b[0m\u001b[38;5;34m0\u001b[0m (0.00 B)\n"
      ]
     },
     "metadata": {},
     "output_type": "display_data"
    }
   ],
   "source": [
    "model = keras.models.Sequential([\n",
    "    Embedding(input_dim=voc_size, output_dim=max_sentince_size, input_length=max_sentince_size, mask_zero=True),\n",
    "    SpatialDropout1D(0.3),\n",
    "    GlobalAveragePooling1D(),\n",
    "    Dropout(0.5),\n",
    "    Dense(2, activation=\"softmax\", kernel_regularizer=l2(0.001))\n",
    "])\n",
    "\n",
    "model.build(input_shape=(None, max_sentince_size))\n",
    "model.compile(optimizer=Adam(learning_rate=0.0005), loss=\"categorical_crossentropy\", metrics=[\"accuracy\"])\n",
    "model.summary()"
   ]
  },
  {
   "cell_type": "code",
   "execution_count": 16,
   "metadata": {},
   "outputs": [],
   "source": [
    "from tensorflow.keras.callbacks import EarlyStopping, ReduceLROnPlateau, ModelCheckpoint\n",
    "early_stop = EarlyStopping(monitor='val_loss', patience=2)\n",
    "reduce_lr = ReduceLROnPlateau(monitor='val_loss', factor=0.3, patience=1, min_lr=0.00001)\n",
    "checkpoint = ModelCheckpoint(\"best_model.keras\", monitor=\"val_accuracy\", save_best_only=True, mode=\"max\", verbose=0)"
   ]
  },
  {
   "cell_type": "code",
   "execution_count": 17,
   "metadata": {},
   "outputs": [
    {
     "name": "stdout",
     "output_type": "stream",
     "text": [
      "Epoch 1/20\n",
      "\u001b[1m1240/1240\u001b[0m \u001b[32m━━━━━━━━━━━━━━━━━━━━\u001b[0m\u001b[37m\u001b[0m \u001b[1m1713s\u001b[0m 1s/step - accuracy: 0.8257 - loss: 0.4924 - val_accuracy: 0.8909 - val_loss: 0.3200 - learning_rate: 5.0000e-04\n",
      "Epoch 2/20\n",
      "\u001b[1m1240/1240\u001b[0m \u001b[32m━━━━━━━━━━━━━━━━━━━━\u001b[0m\u001b[37m\u001b[0m \u001b[1m1743s\u001b[0m 1s/step - accuracy: 0.9188 - loss: 0.2709 - val_accuracy: 0.9006 - val_loss: 0.2994 - learning_rate: 5.0000e-04\n",
      "Epoch 3/20\n",
      "\u001b[1m1240/1240\u001b[0m \u001b[32m━━━━━━━━━━━━━━━━━━━━\u001b[0m\u001b[37m\u001b[0m \u001b[1m1777s\u001b[0m 1s/step - accuracy: 0.9398 - loss: 0.2281 - val_accuracy: 0.9005 - val_loss: 0.2931 - learning_rate: 5.0000e-04\n",
      "Epoch 4/20\n",
      "\u001b[1m1240/1240\u001b[0m \u001b[32m━━━━━━━━━━━━━━━━━━━━\u001b[0m\u001b[37m\u001b[0m \u001b[1m1730s\u001b[0m 1s/step - accuracy: 0.9470 - loss: 0.2043 - val_accuracy: 0.9012 - val_loss: 0.2912 - learning_rate: 5.0000e-04\n",
      "Epoch 5/20\n",
      "\u001b[1m1240/1240\u001b[0m \u001b[32m━━━━━━━━━━━━━━━━━━━━\u001b[0m\u001b[37m\u001b[0m \u001b[1m1759s\u001b[0m 1s/step - accuracy: 0.9565 - loss: 0.1831 - val_accuracy: 0.9001 - val_loss: 0.2916 - learning_rate: 5.0000e-04\n",
      "Epoch 6/20\n",
      "\u001b[1m1240/1240\u001b[0m \u001b[32m━━━━━━━━━━━━━━━━━━━━\u001b[0m\u001b[37m\u001b[0m \u001b[1m1688s\u001b[0m 1s/step - accuracy: 0.9647 - loss: 0.1661 - val_accuracy: 0.9009 - val_loss: 0.2941 - learning_rate: 1.5000e-04\n"
     ]
    }
   ],
   "source": [
    "history = model.fit(X_train, y_train, callbacks=[early_stop,reduce_lr,checkpoint], epochs=20, validation_data=(X_test, y_test))"
   ]
  },
  {
   "cell_type": "code",
   "execution_count": 18,
   "metadata": {},
   "outputs": [
    {
     "data": {
      "image/png": "[encoded data removed]",
      "text/plain": [
       "<Figure size 640x480 with 1 Axes>"
      ]
     },
     "metadata": {},
     "output_type": "display_data"
    }
   ],
   "source": [
    "plt.plot(history.history[\"accuracy\"] , label=\"accuracy\")\n",
    "plt.plot(history.history[\"val_accuracy\"], label=\"val_accuracy\")\n",
    "\n",
    "plt.xlabel(\"Epochs\")\n",
    "plt.ylabel(\"Accuracy\")\n",
    "\n",
    "plt.title(\"Accuracy Vs Epochs\")\n",
    "\n",
    "plt.legend()\n",
    "plt.grid()"
   ]
  },
  {
   "cell_type": "code",
   "execution_count": 19,
   "metadata": {},
   "outputs": [
    {
     "data": {
      "image/png": "[encoded data removed]",
      "text/plain": [
       "<Figure size 640x480 with 1 Axes>"
      ]
     },
     "metadata": {},
     "output_type": "display_data"
    }
   ],
   "source": [
    "plt.plot(history.history[\"loss\"], label=\"Loss\")\n",
    "plt.plot(history.history[\"val_loss\"], label=\"Val_Loss\")\n",
    "\n",
    "plt.xlabel(\"Epochs\")\n",
    "plt.ylabel(\"Loss\")\n",
    "\n",
    "plt.title(\"Loss Vs Epochs\")\n",
    "\n",
    "plt.legend()\n",
    "plt.grid()"
   ]
  },
  {
   "cell_type": "code",
   "execution_count": 20,
   "metadata": {},
   "outputs": [
    {
     "name": "stdout",
     "output_type": "stream",
     "text": [
      "\u001b[1m310/310\u001b[0m \u001b[32m━━━━━━━━━━━━━━━━━━━━\u001b[0m\u001b[37m\u001b[0m \u001b[1m55s\u001b[0m 174ms/step - accuracy: 0.9010 - loss: 0.2910\n"
     ]
    },
    {
     "data": {
      "text/plain": [
       "[0.2911554276943207, 0.9011797904968262]"
      ]
     },
     "execution_count": 20,
     "metadata": {},
     "output_type": "execute_result"
    }
   ],
   "source": [
    "from tensorflow.keras.models import load_model\n",
    "\n",
    "best_model = load_model(\"best_model.keras\")\n",
    "best_model.evaluate(X_test, y_test)"
   ]
  },
  {
   "cell_type": "code",
   "execution_count": null,
   "metadata": {},
   "outputs": [],
   "source": []
  }
 ],
 "metadata": {
  "kernelspec": {
   "display_name": "Python 3 (ipykernel)",
   "language": "python",
   "name": "python3"
  },
  "language_info": {
   "codemirror_mode": {
    "name": "ipython",
    "version": 3
   },
   "file_extension": ".py",
   "mimetype": "text/x-python",
   "name": "python",
   "nbconvert_exporter": "python",
   "pygments_lexer": "ipython3",
   "version": "3.12.7"
  }
 },
 "nbformat": 4,
 "nbformat_minor": 4
}
